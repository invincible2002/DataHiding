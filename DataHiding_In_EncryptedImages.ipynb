{
  "cells": [
    {
      "cell_type": "markdown",
      "metadata": {
        "id": "view-in-github",
        "colab_type": "text"
      },
      "source": [
        "<a href=\"https://colab.research.google.com/github/invincible2002/DataHiding/blob/main/DataHiding_In_EncryptedImages.ipynb\" target=\"_parent\"><img src=\"https://colab.research.google.com/assets/colab-badge.svg\" alt=\"Open In Colab\"/></a>"
      ]
    },
    {
      "cell_type": "code",
      "execution_count": null,
      "metadata": {
        "colab": {
          "background_save": true,
          "base_uri": "https://localhost:8080/"
        },
        "id": "4cGkfI-WsR8R",
        "outputId": "3a352b81-ed0b-42c6-ee1c-404dec82db11"
      },
      "outputs": [
        {
          "name": "stdout",
          "output_type": "stream",
          "text": [
            "Height: 3704, Width: 2976, Number of channels: 3\n"
          ]
        }
      ],
      "source": [
        "import cv2\n",
        "import string\n",
        "import os\n",
        "dict1 = {}\n",
        "dict2 = {}\n",
        "for i in range(255):\n",
        "  dict1[chr(i)]=i\n",
        "  dict2[i]=chr(i)\n",
        "img = cv2.imread(\"/content/f8db5ccfbef4778fbd907da416bb38d1.png\")\n",
        "height = img.shape[0]\n",
        "width = img.shape[1]\n",
        "channels = img.shape[2]\n",
        "print(f\"Height: {height}, Width: {width}, Number of channels: {channels}\")\n",
        "key = input(\"Enter Your Secret Key : \")\n",
        "text = input(\"Enter text to hide In the Image : \")\n",
        "kl = 0\n",
        "tln=len(text)\n",
        "x = 0\n",
        "y = 0\n",
        "z = 0\n",
        "l=len(text)\n",
        "for i in range(l):\n",
        "  img[x, y, z] = dict1[text[i]] ^ dict1[key[kl]]\n",
        "  y = y+1\n",
        "  x = x+1\n",
        "  x = (x+1)%3\n",
        "  kl = (kl+1)%len(key)\n",
        "cv2.imwrite(\"encrypted_img.png\", img)\n",
        "\n",
        "print(\"Data Hiding in Image completed successfully.\")\n",
        "import base64\n",
        "with open(\"/content/f8db5ccfbef4778fbd907da416bb38d1.png\", \"rb\") as image2string:\n",
        "    converted_string = base64.b64encode(image2string.read())\n",
        "print(converted_string)\n",
        "with open('encode.bin', \"wb\") as file:\n",
        "  file.write(converted_string)\n",
        "kl = 0\n",
        "tln=len(text)\n",
        "x = 0\n",
        "y = 0\n",
        "z = 0\n",
        "ch = int(input(\"\\nEnter 1 to extract data from Image : \"))\n",
        "if ch == 1:\n",
        "  key1=input(\"\\n\\nRe-enter secret key to extract text : \")\n",
        "  decrypt=\"\"\n",
        "if key == key1 :\n",
        "          for i in range(l):\n",
        "                decrypt+=dict2[img[x, y,z] ^ dict1[key[kl]]]\n",
        "                y = y+1\n",
        "                x = x+1\n",
        "                x = (x+1)%3\n",
        "                kl = (kl+1)%len(key)\n",
        "print(\"Encrypted text was : \", decrypt)\n"
      ]
    }
  ],
  "metadata": {
    "colab": {
      "provenance": [],
      "authorship_tag": "ABX9TyNkoolCx8Z11VIHW81emmgt",
      "include_colab_link": true
    },
    "kernelspec": {
      "display_name": "Python 3",
      "name": "python3"
    },
    "language_info": {
      "name": "python"
    }
  },
  "nbformat": 4,
  "nbformat_minor": 0
}